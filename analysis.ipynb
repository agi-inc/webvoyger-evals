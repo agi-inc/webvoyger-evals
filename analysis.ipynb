{
 "cells": [
  {
   "cell_type": "code",
   "execution_count": 18,
   "metadata": {},
   "outputs": [],
   "source": [
    "import json\n",
    "import pandas as pd\n",
    "\n",
    "# Read the JSON file\n",
    "# with open(\"results/experiment_results.json\", \"r\") as f:\n",
    "#     data = pd.read_json(f)\n",
    "\n",
    "import glob\n",
    "import os\n",
    "\n",
    "# Get all task result files\n",
    "task_files = glob.glob(\"results/examples-browser-use/experiment_results.json\")\n",
    "\n",
    "# Read each file into a list of dictionaries\n"
   ]
  },
  {
   "cell_type": "code",
   "execution_count": 37,
   "metadata": {},
   "outputs": [],
   "source": [
    "results = []\n",
    "for file in task_files:\n",
    "    with open(file, \"r\") as f:\n",
    "        data = json.load(f)\n",
    "        results.extend(data[\"all_tasks\"])  # Extract the tasks array directly\n",
    "\n",
    "# Create DataFrame directly from the list of tasks\n",
    "all_tasks = pd.DataFrame(results)"
   ]
  },
  {
   "cell_type": "code",
   "execution_count": 38,
   "metadata": {},
   "outputs": [
    {
     "name": "stdout",
     "output_type": "stream",
     "text": [
      "                    task_id                           web_name  \\\n",
      "0  Cambridge Dictionary--29  https://dictionary.cambridge.org/   \n",
      "\n",
      "                   start_time                    end_time  duration_seconds  \\\n",
      "0  2025-02-26 13:32:59.573541  2025-02-26 13:39:49.334486        409.760945   \n",
      "\n",
      "   num_steps success                                        task_prompt  \\\n",
      "0         17  failed  Go to the Plus section of Cambridge Dictionary...   \n",
      "\n",
      "        final_answer gpt_4v_res  \n",
      "0  <NO FINAL ANSWER>             \n",
      "1\n"
     ]
    }
   ],
   "source": [
    "all_tasks = pd.DataFrame(list(data['all_tasks']))\n",
    "\n",
    "print(all_tasks)\n",
    "print(len(all_tasks))"
   ]
  },
  {
   "cell_type": "code",
   "execution_count": 39,
   "metadata": {},
   "outputs": [
    {
     "data": {
      "text/plain": [
       "1"
      ]
     },
     "execution_count": 39,
     "metadata": {},
     "output_type": "execute_result"
    }
   ],
   "source": [
    "# exclude impossible tasks\n",
    "import json\n",
    "\n",
    "\n",
    "with open(\"data/WebVoyagerImpossibleTasks.json\", \"r\") as f:\n",
    "    impossible_tasks = set(json.load(f))\n",
    "\n",
    "all_tasks = all_tasks[~all_tasks[\"task_id\"].isin(impossible_tasks)]\n",
    "# all_tasks[\"group\"] = all_tasks[\"task_id\"].str.split(\"--\").str[0]\n",
    "len(all_tasks)"
   ]
  },
  {
   "cell_type": "code",
   "execution_count": 40,
   "metadata": {},
   "outputs": [
    {
     "data": {
      "text/plain": [
       "group\n",
       "Cambridge Dictionary    1\n",
       "Name: count, dtype: int64"
      ]
     },
     "execution_count": 40,
     "metadata": {},
     "output_type": "execute_result"
    }
   ],
   "source": [
    "all_tasks[\"group\"] = all_tasks[\"task_id\"].str.split(\"--\").str[0]\n",
    "all_tasks[\"group\"].value_counts()"
   ]
  },
  {
   "cell_type": "code",
   "execution_count": 41,
   "metadata": {},
   "outputs": [
    {
     "data": {
      "text/plain": [
       "<Axes: >"
      ]
     },
     "execution_count": 41,
     "metadata": {},
     "output_type": "execute_result"
    },
    {
     "data": {
      "image/png": "[encoded data removed]",
      "text/plain": [
       "<Figure size 640x480 with 1 Axes>"
      ]
     },
     "metadata": {},
     "output_type": "display_data"
    }
   ],
   "source": [
    "# average duration of tasks, average duration per step\n",
    "# all_tasks[\"duration_seconds\"].mean(), all_tasks[\"duration_seconds\"].mean() / all_tasks[\"num_steps\"].mean()\n",
    "\n",
    "# histogram of duration PER STEP\n",
    "(all_tasks[\"duration_seconds\"] / all_tasks[\"num_steps\"]).hist()"
   ]
  },
  {
   "cell_type": "markdown",
   "metadata": {},
   "source": [
    "## Impossible tasks\n",
    "\n",
    "Some tasks are impossible to solve. For Apple doesn't show prices for certain products in the dataset, there are no recipes for chocolate chip cookies etc.\n",
    "\n",
    "A lot of tasks have dates in the past (kookings, flights), so we just changed the years from 2023 to 2024 or 2024 to 2025 respectively.\n",
    "\n",
    "Here is a full list of impossible tasks:"
   ]
  },
  {
   "cell_type": "code",
   "execution_count": 42,
   "metadata": {},
   "outputs": [
    {
     "data": {
      "text/plain": [
       "{'Allrecipes--16',\n",
       " 'Allrecipes--19',\n",
       " 'Allrecipes--23',\n",
       " 'Allrecipes--3',\n",
       " 'Allrecipes--30',\n",
       " 'Allrecipes--7',\n",
       " 'Amazon--16',\n",
       " 'Amazon--19',\n",
       " 'Amazon--4',\n",
       " 'Apple--1',\n",
       " 'Apple--14',\n",
       " 'Apple--16',\n",
       " 'Apple--2',\n",
       " 'Apple--20',\n",
       " 'Apple--37',\n",
       " 'Apple--41',\n",
       " 'Apple--42',\n",
       " 'Apple--7',\n",
       " 'Apple--9',\n",
       " 'ArXiv--11',\n",
       " 'BBC News--14',\n",
       " 'BBC News--16',\n",
       " 'BBC News--18',\n",
       " 'BBC News--2',\n",
       " 'BBC News--21',\n",
       " 'BBC News--33',\n",
       " 'BBC News--37',\n",
       " 'Booking--11',\n",
       " 'Booking--13',\n",
       " 'Booking--14',\n",
       " 'Booking--6',\n",
       " 'Coursera--17',\n",
       " 'Coursera--28',\n",
       " 'ESPN--19',\n",
       " 'ESPN--2',\n",
       " 'ESPN--21',\n",
       " 'ESPN--26',\n",
       " 'GitHub--22',\n",
       " 'Google Flights--0',\n",
       " 'Google Flights--20',\n",
       " 'Google Flights--7',\n",
       " 'Google Map--13',\n",
       " 'Google Map--18',\n",
       " 'Google Map--26',\n",
       " 'Google Search--15',\n",
       " 'Google Search--16',\n",
       " 'Google Search--22',\n",
       " 'Huggingface--1',\n",
       " 'Huggingface--10',\n",
       " 'Huggingface--20',\n",
       " 'Huggingface--21',\n",
       " 'Huggingface--22',\n",
       " 'Huggingface--23',\n",
       " 'Huggingface--32',\n",
       " 'Huggingface--6'}"
      ]
     },
     "execution_count": 42,
     "metadata": {},
     "output_type": "execute_result"
    }
   ],
   "source": [
    "impossible_tasks"
   ]
  },
  {
   "cell_type": "markdown",
   "metadata": {},
   "source": [
    "### Why tasks fail?\n",
    "\n",
    "As you can see, most of the tasks fail because the model just can't figure out what to do. WHY?"
   ]
  },
  {
   "cell_type": "code",
   "execution_count": 43,
   "metadata": {},
   "outputs": [
    {
     "data": {
      "image/png": "[encoded data removed]",
      "text/plain": [
       "<Figure size 1200x500 with 2 Axes>"
      ]
     },
     "metadata": {},
     "output_type": "display_data"
    }
   ],
   "source": [
    "import matplotlib.pyplot as plt\n",
    "\n",
    "# Create a figure with two subplots side by side\n",
    "fig, (ax1, ax2) = plt.subplots(1, 2, figsize=(12, 5))\n",
    "\n",
    "# Plot histogram for successful tasks\n",
    "successful_tasks = all_tasks[all_tasks[\"success\"] == 'success']\n",
    "successful_tasks[\"num_steps\"].hist(ax=ax1)\n",
    "ax1.set_title(\"Number of Steps for Successful Tasks\")\n",
    "ax1.set_xlabel(\"Number of Steps\")\n",
    "ax1.set_ylabel(\"Frequency\")\n",
    "\n",
    "# Plot histogram for failed tasks\n",
    "failed_tasks = all_tasks[all_tasks[\"success\"] == 'failed']\n",
    "failed_tasks[\"num_steps\"].hist(ax=ax2)\n",
    "ax2.set_title(\"Number of Steps for Failed Tasks\") \n",
    "ax2.set_xlabel(\"Number of Steps\")\n",
    "ax2.set_ylabel(\"Frequency\")\n",
    "\n",
    "plt.tight_layout()"
   ]
  },
  {
   "cell_type": "code",
   "execution_count": 44,
   "metadata": {},
   "outputs": [
    {
     "data": {
      "text/plain": [
       "success\n",
       "failed    1.0\n",
       "Name: proportion, dtype: float64"
      ]
     },
     "execution_count": 44,
     "metadata": {},
     "output_type": "execute_result"
    }
   ],
   "source": [
    "all_tasks[\"success\"].value_counts(normalize=True)"
   ]
  },
  {
   "cell_type": "code",
   "execution_count": 49,
   "metadata": {},
   "outputs": [
    {
     "data": {
      "text/html": [
       "<div>\n",
       "<style scoped>\n",
       "    .dataframe tbody tr th:only-of-type {\n",
       "        vertical-align: middle;\n",
       "    }\n",
       "\n",
       "    .dataframe tbody tr th {\n",
       "        vertical-align: top;\n",
       "    }\n",
       "\n",
       "    .dataframe thead th {\n",
       "        text-align: right;\n",
       "    }\n",
       "</style>\n",
       "<table border=\"1\" class=\"dataframe\">\n",
       "  <thead>\n",
       "    <tr style=\"text-align: right;\">\n",
       "      <th>success</th>\n",
       "      <th>failed</th>\n",
       "      <th>avg_steps</th>\n",
       "      <th>num_tasks</th>\n",
       "    </tr>\n",
       "    <tr>\n",
       "      <th>group</th>\n",
       "      <th></th>\n",
       "      <th></th>\n",
       "      <th></th>\n",
       "    </tr>\n",
       "  </thead>\n",
       "  <tbody>\n",
       "    <tr>\n",
       "      <th>Cambridge Dictionary</th>\n",
       "      <td>1.0</td>\n",
       "      <td>17.0</td>\n",
       "      <td>1</td>\n",
       "    </tr>\n",
       "  </tbody>\n",
       "</table>\n",
       "</div>"
      ],
      "text/plain": [
       "success               failed  avg_steps  num_tasks\n",
       "group                                             \n",
       "Cambridge Dictionary     1.0       17.0          1"
      ]
     },
     "execution_count": 49,
     "metadata": {},
     "output_type": "execute_result"
    }
   ],
   "source": [
    "# percentage of tasks failed, unknown and success per each group (the thing before the -- in each task_id)\n",
    "# Create group column if it doesn't exist\n",
    "all_tasks[\"group\"] = all_tasks[\"task_id\"].str.split(\"--\").str[0]\n",
    "\n",
    "# Calculate percentage of each success status per group\n",
    "# Calculate success percentages by group\n",
    "success_by_group = all_tasks.groupby(\"group\")[\"success\"].value_counts(normalize=True).unstack().fillna(0)\n",
    "success_by_group = success_by_group.round(2)\n",
    "\n",
    "# Calculate average steps per group\n",
    "avg_steps = all_tasks.groupby(\"group\")[\"num_steps\"].mean().round(1)\n",
    "success_by_group[\"avg_steps\"] = avg_steps\n",
    "\n",
    "# Calculate number of tasks per group\n",
    "num_tasks = all_tasks.groupby(\"group\").size()\n",
    "success_by_group[\"num_tasks\"] = num_tasks\n",
    "\n",
    "# Sort by success rate\n",
    "success_by_group.sort_values(\"group\", ascending=True)\n",
    "# success_by_group.sort_values(\"success\", ascending=False)\n",
    "# success_by_group"
   ]
  }
 ],
 "metadata": {
  "kernelspec": {
   "display_name": "Python 3",
   "language": "python",
   "name": "python3"
  },
  "language_info": {
   "codemirror_mode": {
    "name": "ipython",
    "version": 3
   },
   "file_extension": ".py",
   "mimetype": "text/x-python",
   "name": "python",
   "nbconvert_exporter": "python",
   "pygments_lexer": "ipython3",
   "version": "3.11.4"
  }
 },
 "nbformat": 4,
 "nbformat_minor": 2
}
