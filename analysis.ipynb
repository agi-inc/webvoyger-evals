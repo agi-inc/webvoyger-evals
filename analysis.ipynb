{
 "cells": [
  {
   "cell_type": "code",
   "execution_count": 84,
   "metadata": {},
   "outputs": [],
   "source": [
    "import json\n",
    "import pandas as pd\n",
    "\n",
    "# Read the JSON file\n",
    "# with open(\"results/experiment_results.json\", \"r\") as f:\n",
    "#     data = pd.read_json(f)\n",
    "\n",
    "import glob\n",
    "import os\n",
    "\n",
    "# Get all task result files\n",
    "task_files = glob.glob(\"results/*--*/task_result.json\")\n",
    "\n",
    "# Read each file into a list of dictionaries\n"
   ]
  },
  {
   "cell_type": "code",
   "execution_count": 85,
   "metadata": {},
   "outputs": [],
   "source": [
    "results = []\n",
    "for file in task_files:\n",
    "    with open(file, \"r\") as f:\n",
    "        results.append(json.load(f))\n",
    "\n",
    "# Create DataFrame\n",
    "data = pd.DataFrame({\"all_tasks\": results})"
   ]
  },
  {
   "cell_type": "code",
   "execution_count": 86,
   "metadata": {},
   "outputs": [
    {
     "data": {
      "text/plain": [
       "590"
      ]
     },
     "execution_count": 86,
     "metadata": {},
     "output_type": "execute_result"
    }
   ],
   "source": [
    "all_tasks = pd.DataFrame(list(data['all_tasks']))\n",
    "# all_tasks.head(3)\n",
    "len(all_tasks)"
   ]
  },
  {
   "cell_type": "code",
   "execution_count": 87,
   "metadata": {},
   "outputs": [
    {
     "data": {
      "text/plain": [
       "586"
      ]
     },
     "execution_count": 87,
     "metadata": {},
     "output_type": "execute_result"
    }
   ],
   "source": [
    "# exclude impossible tasks\n",
    "import json\n",
    "\n",
    "\n",
    "with open(\"impossible-tasks.json\", \"r\") as f:\n",
    "    impossible_tasks = set(json.load(f))\n",
    "\n",
    "all_tasks = all_tasks[~all_tasks[\"task_id\"].isin(impossible_tasks)]\n",
    "# all_tasks[\"group\"] = all_tasks[\"task_id\"].str.split(\"--\").str[0]\n",
    "len(all_tasks)"
   ]
  },
  {
   "cell_type": "code",
   "execution_count": 88,
   "metadata": {},
   "outputs": [
    {
     "data": {
      "text/plain": [
       "group\n",
       "Wolfram Alpha           46\n",
       "Cambridge Dictionary    43\n",
       "ArXiv                   42\n",
       "ESPN                    40\n",
       "GitHub                  40\n",
       "Booking                 40\n",
       "Google Search           40\n",
       "Coursera                40\n",
       "Allrecipes              39\n",
       "Google Flights          39\n",
       "Amazon                  38\n",
       "Google Map              36\n",
       "Huggingface             35\n",
       "BBC News                35\n",
       "Apple                   33\n",
       "Name: count, dtype: int64"
      ]
     },
     "execution_count": 88,
     "metadata": {},
     "output_type": "execute_result"
    }
   ],
   "source": [
    "all_tasks[\"group\"] = all_tasks[\"task_id\"].str.split(\"--\").str[0]\n",
    "all_tasks[\"group\"].value_counts()"
   ]
  },
  {
   "cell_type": "code",
   "execution_count": 89,
   "metadata": {},
   "outputs": [
    {
     "data": {
      "text/plain": [
       "<Axes: >"
      ]
     },
     "execution_count": 89,
     "metadata": {},
     "output_type": "execute_result"
    },
    {
     "data": {
      "image/png": "[encoded data removed]",
      "text/plain": [
       "<Figure size 640x480 with 1 Axes>"
      ]
     },
     "metadata": {},
     "output_type": "display_data"
    }
   ],
   "source": [
    "# average duration of tasks, average duration per step\n",
    "# all_tasks[\"duration_seconds\"].mean(), all_tasks[\"duration_seconds\"].mean() / all_tasks[\"num_steps\"].mean()\n",
    "\n",
    "# histogram of duration PER STEP\n",
    "(all_tasks[\"duration_seconds\"] / all_tasks[\"num_steps\"]).hist()"
   ]
  },
  {
   "cell_type": "markdown",
   "metadata": {},
   "source": [
    "## Impossible tasks\n",
    "\n",
    "Some tasks are impossible to solve. For Apple doesn't show prices for certain products in the dataset, there are no recipes for chocolate chip cookies etc.\n",
    "\n",
    "A lot of tasks have dates in the past (kookings, flights), so we just changed the years from 2023 to 2024 or 2024 to 2025 respectively.\n",
    "\n",
    "Here is a full list of impossible tasks:"
   ]
  },
  {
   "cell_type": "code",
   "execution_count": 94,
   "metadata": {},
   "outputs": [
    {
     "data": {
      "text/plain": [
       "{'Allrecipes--16',\n",
       " 'Allrecipes--19',\n",
       " 'Allrecipes--23',\n",
       " 'Allrecipes--3',\n",
       " 'Allrecipes--30',\n",
       " 'Allrecipes--7',\n",
       " 'Amazon--16',\n",
       " 'Amazon--19',\n",
       " 'Amazon--4',\n",
       " 'Apple--1',\n",
       " 'Apple--14',\n",
       " 'Apple--16',\n",
       " 'Apple--2',\n",
       " 'Apple--20',\n",
       " 'Apple--37',\n",
       " 'Apple--41',\n",
       " 'Apple--42',\n",
       " 'Apple--7',\n",
       " 'Apple--9',\n",
       " 'ArXiv--11',\n",
       " 'BBC News--14',\n",
       " 'BBC News--16',\n",
       " 'BBC News--18',\n",
       " 'BBC News--2',\n",
       " 'BBC News--21',\n",
       " 'BBC News--33',\n",
       " 'BBC News--37',\n",
       " 'Booking--11',\n",
       " 'Booking--13',\n",
       " 'Booking--14',\n",
       " 'Booking--6',\n",
       " 'Coursera--17',\n",
       " 'Coursera--28',\n",
       " 'ESPN--19',\n",
       " 'ESPN--2',\n",
       " 'ESPN--21',\n",
       " 'ESPN--26',\n",
       " 'GitHub--22',\n",
       " 'Google Flights--0',\n",
       " 'Google Flights--20',\n",
       " 'Google Flights--7',\n",
       " 'Google Map--13',\n",
       " 'Google Map--18',\n",
       " 'Google Map--26',\n",
       " 'Google Search--15',\n",
       " 'Google Search--16',\n",
       " 'Google Search--22',\n",
       " 'Huggingface--1',\n",
       " 'Huggingface--10',\n",
       " 'Huggingface--20',\n",
       " 'Huggingface--21',\n",
       " 'Huggingface--22',\n",
       " 'Huggingface--23',\n",
       " 'Huggingface--32',\n",
       " 'Huggingface--6'}"
      ]
     },
     "execution_count": 94,
     "metadata": {},
     "output_type": "execute_result"
    }
   ],
   "source": [
    "impossible_tasks"
   ]
  },
  {
   "cell_type": "markdown",
   "metadata": {},
   "source": [
    "### Why tasks fail?\n",
    "\n",
    "As you can see, most of the tasks fail because the model just can't figure out what to do. WHY?"
   ]
  },
  {
   "cell_type": "code",
   "execution_count": 91,
   "metadata": {},
   "outputs": [
    {
     "data": {
      "image/png": "[encoded data removed]",
      "text/plain": [
       "<Figure size 1200x500 with 2 Axes>"
      ]
     },
     "metadata": {},
     "output_type": "display_data"
    }
   ],
   "source": [
    "import matplotlib.pyplot as plt\n",
    "\n",
    "# Create a figure with two subplots side by side\n",
    "fig, (ax1, ax2) = plt.subplots(1, 2, figsize=(12, 5))\n",
    "\n",
    "# Plot histogram for successful tasks\n",
    "successful_tasks = all_tasks[all_tasks[\"success\"] == 'success']\n",
    "successful_tasks[\"num_steps\"].hist(ax=ax1)\n",
    "ax1.set_title(\"Number of Steps for Successful Tasks\")\n",
    "ax1.set_xlabel(\"Number of Steps\")\n",
    "ax1.set_ylabel(\"Frequency\")\n",
    "\n",
    "# Plot histogram for failed tasks\n",
    "failed_tasks = all_tasks[all_tasks[\"success\"] == 'failed']\n",
    "failed_tasks[\"num_steps\"].hist(ax=ax2)\n",
    "ax2.set_title(\"Number of Steps for Failed Tasks\") \n",
    "ax2.set_xlabel(\"Number of Steps\")\n",
    "ax2.set_ylabel(\"Frequency\")\n",
    "\n",
    "plt.tight_layout()"
   ]
  },
  {
   "cell_type": "code",
   "execution_count": 92,
   "metadata": {},
   "outputs": [
    {
     "data": {
      "text/plain": [
       "success\n",
       "success    0.890785\n",
       "failed     0.093857\n",
       "unknown    0.015358\n",
       "Name: proportion, dtype: float64"
      ]
     },
     "execution_count": 92,
     "metadata": {},
     "output_type": "execute_result"
    }
   ],
   "source": [
    "all_tasks[\"success\"].value_counts(normalize=True)"
   ]
  },
  {
   "cell_type": "code",
   "execution_count": 93,
   "metadata": {},
   "outputs": [
    {
     "data": {
      "text/html": [
       "<div>\n",
       "<style scoped>\n",
       "    .dataframe tbody tr th:only-of-type {\n",
       "        vertical-align: middle;\n",
       "    }\n",
       "\n",
       "    .dataframe tbody tr th {\n",
       "        vertical-align: top;\n",
       "    }\n",
       "\n",
       "    .dataframe thead th {\n",
       "        text-align: right;\n",
       "    }\n",
       "</style>\n",
       "<table border=\"1\" class=\"dataframe\">\n",
       "  <thead>\n",
       "    <tr style=\"text-align: right;\">\n",
       "      <th>success</th>\n",
       "      <th>failed</th>\n",
       "      <th>success</th>\n",
       "      <th>unknown</th>\n",
       "      <th>avg_steps</th>\n",
       "      <th>num_tasks</th>\n",
       "    </tr>\n",
       "    <tr>\n",
       "      <th>group</th>\n",
       "      <th></th>\n",
       "      <th></th>\n",
       "      <th></th>\n",
       "      <th></th>\n",
       "      <th></th>\n",
       "    </tr>\n",
       "  </thead>\n",
       "  <tbody>\n",
       "    <tr>\n",
       "      <th>Huggingface</th>\n",
       "      <td>0.00</td>\n",
       "      <td>1.00</td>\n",
       "      <td>0.00</td>\n",
       "      <td>9.7</td>\n",
       "      <td>35</td>\n",
       "    </tr>\n",
       "    <tr>\n",
       "      <th>Google Flights</th>\n",
       "      <td>0.05</td>\n",
       "      <td>0.95</td>\n",
       "      <td>0.00</td>\n",
       "      <td>36.2</td>\n",
       "      <td>39</td>\n",
       "    </tr>\n",
       "    <tr>\n",
       "      <th>Amazon</th>\n",
       "      <td>0.08</td>\n",
       "      <td>0.92</td>\n",
       "      <td>0.00</td>\n",
       "      <td>14.7</td>\n",
       "      <td>38</td>\n",
       "    </tr>\n",
       "    <tr>\n",
       "      <th>GitHub</th>\n",
       "      <td>0.08</td>\n",
       "      <td>0.92</td>\n",
       "      <td>0.00</td>\n",
       "      <td>15.9</td>\n",
       "      <td>40</td>\n",
       "    </tr>\n",
       "    <tr>\n",
       "      <th>Apple</th>\n",
       "      <td>0.06</td>\n",
       "      <td>0.91</td>\n",
       "      <td>0.03</td>\n",
       "      <td>12.5</td>\n",
       "      <td>33</td>\n",
       "    </tr>\n",
       "    <tr>\n",
       "      <th>BBC News</th>\n",
       "      <td>0.09</td>\n",
       "      <td>0.91</td>\n",
       "      <td>0.00</td>\n",
       "      <td>18.2</td>\n",
       "      <td>35</td>\n",
       "    </tr>\n",
       "    <tr>\n",
       "      <th>Cambridge Dictionary</th>\n",
       "      <td>0.09</td>\n",
       "      <td>0.91</td>\n",
       "      <td>0.00</td>\n",
       "      <td>16.7</td>\n",
       "      <td>43</td>\n",
       "    </tr>\n",
       "    <tr>\n",
       "      <th>Allrecipes</th>\n",
       "      <td>0.08</td>\n",
       "      <td>0.90</td>\n",
       "      <td>0.03</td>\n",
       "      <td>18.3</td>\n",
       "      <td>39</td>\n",
       "    </tr>\n",
       "    <tr>\n",
       "      <th>Coursera</th>\n",
       "      <td>0.10</td>\n",
       "      <td>0.90</td>\n",
       "      <td>0.00</td>\n",
       "      <td>8.5</td>\n",
       "      <td>40</td>\n",
       "    </tr>\n",
       "    <tr>\n",
       "      <th>Google Search</th>\n",
       "      <td>0.10</td>\n",
       "      <td>0.90</td>\n",
       "      <td>0.00</td>\n",
       "      <td>14.4</td>\n",
       "      <td>40</td>\n",
       "    </tr>\n",
       "    <tr>\n",
       "      <th>Google Map</th>\n",
       "      <td>0.11</td>\n",
       "      <td>0.86</td>\n",
       "      <td>0.03</td>\n",
       "      <td>14.9</td>\n",
       "      <td>36</td>\n",
       "    </tr>\n",
       "    <tr>\n",
       "      <th>ESPN</th>\n",
       "      <td>0.10</td>\n",
       "      <td>0.85</td>\n",
       "      <td>0.05</td>\n",
       "      <td>21.0</td>\n",
       "      <td>40</td>\n",
       "    </tr>\n",
       "    <tr>\n",
       "      <th>ArXiv</th>\n",
       "      <td>0.14</td>\n",
       "      <td>0.83</td>\n",
       "      <td>0.02</td>\n",
       "      <td>17.6</td>\n",
       "      <td>42</td>\n",
       "    </tr>\n",
       "    <tr>\n",
       "      <th>Wolfram Alpha</th>\n",
       "      <td>0.13</td>\n",
       "      <td>0.83</td>\n",
       "      <td>0.04</td>\n",
       "      <td>18.4</td>\n",
       "      <td>46</td>\n",
       "    </tr>\n",
       "    <tr>\n",
       "      <th>Booking</th>\n",
       "      <td>0.18</td>\n",
       "      <td>0.80</td>\n",
       "      <td>0.02</td>\n",
       "      <td>32.7</td>\n",
       "      <td>40</td>\n",
       "    </tr>\n",
       "  </tbody>\n",
       "</table>\n",
       "</div>"
      ],
      "text/plain": [
       "success               failed  success  unknown  avg_steps  num_tasks\n",
       "group                                                               \n",
       "Huggingface             0.00     1.00     0.00        9.7         35\n",
       "Google Flights          0.05     0.95     0.00       36.2         39\n",
       "Amazon                  0.08     0.92     0.00       14.7         38\n",
       "GitHub                  0.08     0.92     0.00       15.9         40\n",
       "Apple                   0.06     0.91     0.03       12.5         33\n",
       "BBC News                0.09     0.91     0.00       18.2         35\n",
       "Cambridge Dictionary    0.09     0.91     0.00       16.7         43\n",
       "Allrecipes              0.08     0.90     0.03       18.3         39\n",
       "Coursera                0.10     0.90     0.00        8.5         40\n",
       "Google Search           0.10     0.90     0.00       14.4         40\n",
       "Google Map              0.11     0.86     0.03       14.9         36\n",
       "ESPN                    0.10     0.85     0.05       21.0         40\n",
       "ArXiv                   0.14     0.83     0.02       17.6         42\n",
       "Wolfram Alpha           0.13     0.83     0.04       18.4         46\n",
       "Booking                 0.18     0.80     0.02       32.7         40"
      ]
     },
     "execution_count": 93,
     "metadata": {},
     "output_type": "execute_result"
    }
   ],
   "source": [
    "# percentage of tasks failed, unknown and success per each group (the thing before the -- in each task_id)\n",
    "# Create group column if it doesn't exist\n",
    "all_tasks[\"group\"] = all_tasks[\"task_id\"].str.split(\"--\").str[0]\n",
    "\n",
    "# Calculate percentage of each success status per group\n",
    "# Calculate success percentages by group\n",
    "success_by_group = all_tasks.groupby(\"group\")[\"success\"].value_counts(normalize=True).unstack().fillna(0)\n",
    "success_by_group = success_by_group.round(2)\n",
    "\n",
    "# Calculate average steps per group\n",
    "avg_steps = all_tasks.groupby(\"group\")[\"num_steps\"].mean().round(1)\n",
    "success_by_group[\"avg_steps\"] = avg_steps\n",
    "\n",
    "# Calculate number of tasks per group\n",
    "num_tasks = all_tasks.groupby(\"group\").size()\n",
    "success_by_group[\"num_tasks\"] = num_tasks\n",
    "\n",
    "# Sort by success rate\n",
    "# success_by_group.sort_values(\"group\", ascending=True)\n",
    "success_by_group.sort_values(\"success\", ascending=False)"
   ]
  }
 ],
 "metadata": {
  "kernelspec": {
   "display_name": ".venv",
   "language": "python",
   "name": "python3"
  },
  "language_info": {
   "codemirror_mode": {
    "name": "ipython",
    "version": 3
   },
   "file_extension": ".py",
   "mimetype": "text/x-python",
   "name": "python",
   "nbconvert_exporter": "python",
   "pygments_lexer": "ipython3",
   "version": "3.11.4"
  }
 },
 "nbformat": 4,
 "nbformat_minor": 2
}
